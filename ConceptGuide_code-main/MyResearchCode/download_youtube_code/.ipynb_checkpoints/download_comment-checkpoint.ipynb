{
 "cells": [
  {
   "cell_type": "code",
   "execution_count": 1,
   "id": "6f9d7717-5ec8-4e9b-9ecf-7ab9c3a2378e",
   "metadata": {},
   "outputs": [],
   "source": [
    "\n",
    "##### Comment Threads ######\n",
    "# refer to: https://developers.google.com/youtube/v3/docs/commentThreads/list\n",
    "# get comment's information\n",
    "# 1.videoid\n",
    "# 2.textDisplay (textOriginal)\n",
    "# 3.publishedAt\n",
    "# 4.authorDisplayName\n",
    "# 5.authorProfileImageUrl\n",
    "def get_comment_threads(youtube, vlist):\n",
    "    comments = []\n",
    "    for video in vlist:\n",
    "        vid = video['videoid']\n",
    "        #print(\"vid = \",vid)\n",
    "        try:\n",
    "            results = youtube.commentThreads().list(\n",
    "                part=\"snippet\",#replies\n",
    "                videoId=vid,\n",
    "                maxResults=100, # at most 100 comments\n",
    "                textFormat=\"plainText\"## or 'html'\n",
    "            ).execute()\n",
    "            for item in results[\"items\"]:\n",
    "                if 'snippet' in item:\n",
    "                    data = {\n",
    "                        'videoId':item['snippet']['videoId'],\n",
    "                        'textDisplay':item['snippet']['topLevelComment']['snippet']['textDisplay'],\n",
    "                        'publishedAt':item['snippet']['topLevelComment']['snippet']['publishedAt'],\n",
    "                        'authorDisplayName':item['snippet']['topLevelComment']['snippet']['authorDisplayName'],#\n",
    "                        'authorProfileImageUrl':item['snippet']['topLevelComment']['snippet']['authorProfileImageUrl']#\n",
    "                    }\n",
    "                    comments.append(data)\n",
    "        except:\n",
    "            print(\"videoid: \",vid,\" do not have comments!\")\n",
    "    return comments"
   ]
  },
  {
   "cell_type": "code",
   "execution_count": null,
   "id": "d051df0f-55cc-47fc-8c0f-ec0ddc306bc2",
   "metadata": {},
   "outputs": [],
   "source": []
  }
 ],
 "metadata": {
  "kernelspec": {
   "display_name": "Python 3 (ipykernel)",
   "language": "python",
   "name": "python3"
  },
  "language_info": {
   "codemirror_mode": {
    "name": "ipython",
    "version": 3
   },
   "file_extension": ".py",
   "mimetype": "text/x-python",
   "name": "python",
   "nbconvert_exporter": "python",
   "pygments_lexer": "ipython3",
   "version": "3.10.2"
  }
 },
 "nbformat": 4,
 "nbformat_minor": 5
}
