{
 "cells": [
  {
   "cell_type": "code",
   "execution_count": 1,
   "id": "06f55d94-71f6-4807-b550-95979e33e953",
   "metadata": {},
   "outputs": [],
   "source": [
    "import os\n",
    "import sys\n",
    "# import api, output, auth_api\n",
    "from other_modules import output,caption\n",
    "from download_youtube_code import api,auth_api\n",
    "# import caption\n",
    "from datetime import datetime\n",
    "import pandas as pd"
   ]
  },
  {
   "cell_type": "code",
   "execution_count": 2,
   "id": "4c7010eb-f731-4277-92b4-6fb4f3cba9a6",
   "metadata": {},
   "outputs": [
    {
     "name": "stdout",
     "output_type": "stream",
     "text": [
      "/Users/evelyn/Desktop/ConceptMap/ConceptGuide_code-main/MyResearchCode\n"
     ]
    }
   ],
   "source": [
    "!pwd"
   ]
  },
  {
   "cell_type": "code",
   "execution_count": 3,
   "id": "d051df0f-55cc-47fc-8c0f-ec0ddc306bc2",
   "metadata": {},
   "outputs": [
    {
     "name": "stdout",
     "output_type": "stream",
     "text": [
      "Please visit this URL to authorize this application: https://accounts.google.com/o/oauth2/auth?response_type=code&client_id=930864150966-jne9djg1btv397qfr6hctjreite2fqq5.apps.googleusercontent.com&redirect_uri=urn%3Aietf%3Awg%3Aoauth%3A2.0%3Aoob&scope=https%3A%2F%2Fwww.googleapis.com%2Fauth%2Fyoutube.force-ssl&state=jVsXeesL53c3VE8qH6R48Z2ievyLTh&prompt=consent&access_type=offline\n"
     ]
    },
    {
     "name": "stdin",
     "output_type": "stream",
     "text": [
      "Enter the authorization code:  4/1AX4XfWi-8hjpE_BAC-w2UFOcqKd_QGUg-GWUcWDkwXhC7WAJUgUsvvUUieo\n"
     ]
    }
   ],
   "source": [
    "service = auth_api.get_authenticated_service()"
   ]
  },
  {
   "cell_type": "code",
   "execution_count": 4,
   "id": "6f9d7717-5ec8-4e9b-9ecf-7ab9c3a2378e",
   "metadata": {
    "jupyter": {
     "source_hidden": true
    },
    "tags": []
   },
   "outputs": [],
   "source": [
    "# ##### Comment Threads ######\n",
    "# # refer to: https://developers.google.com/youtube/v3/docs/commentThreads/list\n",
    "# # get comment's information\n",
    "# # 1.videoid\n",
    "# # 2.textDisplay (textOriginal)\n",
    "# # 3.publishedAt\n",
    "# # 4.authorDisplayName\n",
    "# # 5.authorProfileImageUrl\n",
    "# def get_comment_threads(youtube, vlist):\n",
    "#     comments = []\n",
    "#     for video in vlist:\n",
    "#         vid = video['videoid']\n",
    "#         #print(\"vid = \",vid)\n",
    "#         try:\n",
    "#             results = youtube.commentThreads().list(\n",
    "#                 part=\"snippet\",#replies\n",
    "#                 videoId=vid,\n",
    "#                 maxResults=100, # at most 100 comments\n",
    "#                 textFormat=\"plainText\"## or 'html'\n",
    "#             ).execute()\n",
    "#             for item in results[\"items\"]:\n",
    "#                 if 'snippet' in item:\n",
    "#                     data = {\n",
    "#                         'videoId':item['snippet']['videoId'],\n",
    "#                         'textDisplay':item['snippet']['topLevelComment']['snippet']['textDisplay'],\n",
    "#                         'publishedAt':item['snippet']['topLevelComment']['snippet']['publishedAt'],\n",
    "#                         'authorDisplayName':item['snippet']['topLevelComment']['snippet']['authorDisplayName'],#\n",
    "#                         'authorProfileImageUrl':item['snippet']['topLevelComment']['snippet']['authorProfileImageUrl']#\n",
    "#                     }\n",
    "#                     comments.append(data)\n",
    "#         except:\n",
    "#             print(\"videoid: \",vid,\" do not have comments!\")\n",
    "#     return comments"
   ]
  },
  {
   "cell_type": "code",
   "execution_count": 4,
   "id": "e85f60be-bbb1-4517-b0d5-0fa8f4d41428",
   "metadata": {
    "tags": []
   },
   "outputs": [],
   "source": [
    "##### Comment Threads ######\n",
    "# refer to: https://developers.google.com/youtube/v3/docs/commentThreads/list\n",
    "# get comment's information\n",
    "# 1.videoid\n",
    "# 2.textDisplay (textOriginal)\n",
    "# 3.publishedAt\n",
    "# 4.authorDisplayName\n",
    "# 5.authorProfileImageUrl\n",
    "gl = []\n",
    "def get_comment_threads(youtube, nextPageToken, vid, comments):\n",
    "    # for video in vlist:\n",
    "    #     vid = video['videoid']\n",
    "    #     #print(\"vid = \",vid)\n",
    "    try:\n",
    "        results = youtube.commentThreads().list(\n",
    "            part=\"id, snippet, replies\",#replies\n",
    "            videoId=vid,\n",
    "            maxResults=100, # at most 100 comments\n",
    "            textFormat=\"plainText\" ## or 'html'\n",
    "            # pageToken = nextPageToken\n",
    "        ).execute()\n",
    "        while results: \n",
    "            for item in results[\"items\"]:\n",
    "                if 'snippet' in item:\n",
    "                    data = {\n",
    "                        'commentId':item['snippet']['topLevelComment']['id'],\n",
    "                        'parentId':'0',\n",
    "                        'videoId':item['snippet']['videoId'],\n",
    "                        'textDisplay':item['snippet']['topLevelComment']['snippet']['textDisplay'],\n",
    "                        'publishedAt':item['snippet']['topLevelComment']['snippet']['publishedAt'],\n",
    "                        'authorDisplayName':item['snippet']['topLevelComment']['snippet']['authorDisplayName'],#\n",
    "                        'authorProfileImageUrl':item['snippet']['topLevelComment']['snippet']['authorProfileImageUrl']#\n",
    "                    }\n",
    "                    # print(data)\n",
    "                    comments.append(data)\n",
    "                    # replies = item.get('replies')\n",
    "                    if item[\"snippet\"]['totalReplyCount'] > 0 and 'replies' in item.keys():\n",
    "                        tmp = []\n",
    "                        # reply would be stored backwards\n",
    "                        for reply in item['replies']['comments']:\n",
    "                            data = {\n",
    "                                'commentId':reply['id'],\n",
    "                                'parentId':reply['snippet']['parentId'],\n",
    "                                'videoId':reply['snippet']['videoId'],\n",
    "                                'textDisplay':reply['snippet']['textDisplay'],\n",
    "                                'publishedAt':reply['snippet']['publishedAt'],\n",
    "                                'authorDisplayName':reply['snippet']['authorDisplayName'],#\n",
    "                                'authorProfileImageUrl':reply['snippet']['authorProfileImageUrl']#\n",
    "                            }\n",
    "                            tmp.append(data)\n",
    "                            # Extract reply\n",
    "                        tmp_rev = []\n",
    "                        tmp_rev.append(tmp[::-1])\n",
    "                        for i in tmp_rev:\n",
    "                            for j in i:\n",
    "                                # print(j)\n",
    "                                comments.append(j)\n",
    "                            # reply = reply['snippet']['textDisplay']\n",
    "                            # print(reply)\n",
    "                            # Store reply is list\n",
    "                            # replies.append(reply)\n",
    "            if 'nextPageToken' in results:\n",
    "                results = youtube.commentThreads().list(\n",
    "                    part=\"id, snippet, replies\",#replies\n",
    "                    videoId=vid,\n",
    "                    maxResults=100, # at most 100 comments\n",
    "                    textFormat=\"plainText\", ## or 'html'\n",
    "                    pageToken = results['nextPageToken']\n",
    "                ).execute()\n",
    "            else:\n",
    "                break\n",
    "        return comments\n",
    "        # extracting required info\n",
    "        # from each result object \n",
    "        # return results\n",
    "    except:\n",
    "        print(\"videoid: \",vid,\" do not have comments!\")\n",
    "# return comments\n",
    "# def load_comments(results, comments):\n",
    "#     for item in results[\"items\"]:\n",
    "#         if 'snippet' in item:\n",
    "#             data = {\n",
    "#                 'videoId':item['snippet']['videoId'],\n",
    "#                 'textDisplay':item['snippet']['topLevelComment']['snippet']['textDisplay'],\n",
    "#                 'publishedAt':item['snippet']['topLevelComment']['snippet']['publishedAt'],\n",
    "#                 'authorDisplayName':item['snippet']['topLevelComment']['snippet']['authorDisplayName'],#\n",
    "#                 'authorProfileImageUrl':item['snippet']['topLevelComment']['snippet']['authorProfileImageUrl']#\n",
    "#             }\n",
    "#             # print(data)\n",
    "#             comments.append(data)\n",
    "            "
   ]
  },
  {
   "cell_type": "code",
   "execution_count": 5,
   "id": "92212f2b-2c03-4987-9a79-4b7b35e509d1",
   "metadata": {},
   "outputs": [],
   "source": [
    "# vlist = ['48Gxwmofaho', 'dIUTsFT2MeQ', 'L1ung0wil9Y', 'nKW8Ndu7Mjw',\n",
    "#          'cKxRvEZd3Mw', 'OQ5jsbhAv_M', '3w_ozqJNLvA', 'EH6vE97qIP4',\n",
    "#          'X8jsijhllIA', 'DMtFhACPnTY']\n",
    "# nlist = ['coco_skeleton_siggraph', 'nlp_with_spacy', 'assembly', 'ml_7steps_google',\n",
    "#          'ml_recipes_google', 'dp_mit', 'vr_martial_arts_ieee', 'blockchain_mit',\n",
    "#          'hamming_code', 'sha256']\n",
    "\n",
    "# #nlp_comments\n",
    "# vlist = ['fOvTtapxa9c', '5ctbvkAMQO4', 'd4gGtcobq8M', 'IpBZ01g0pGE', 'FLZvOKSCkxY', \n",
    "#          'AJVP96tAWxw', '3Q8wacwA4gs', '6WpnxmmkYys', 'MNvT5JekDpg', 'Sx3Fpw0XCXk',\n",
    "#          '05ONoGfmKvA', 'bDPULOFFlaI', 'DDByc9LyMV8', 'FggN0VtWYTk', 'pHiIwQk57dc',\n",
    "#          'BXpmNX_1Dy8', 'mhHfnhh-pB4', 'yGKTphqxR9Q', 'X2vAabgKiuM', 'J5IlKj7H8T8',\n",
    "#          'ReakZVh2Xwk', 'imPpT2Qo2sk', 'ohM7D21C_8Q', 'iGmHnICXDss']\n",
    "\n",
    "# #covid_comments\n",
    "vlist = ['5DGwOJXSxqg', 'ha2mLz-Xdpg', 'vN30emwcNS4', 'muiz5PHYNKA',\n",
    "         '35Idb_lCU4o']\n",
    "nlist = ['COVID-19 Animation', 'Vitamin D and COVID 19', 'If You Get COVID 19', 'Bulgaria protesters',\n",
    "         'COVID-19 Vaccines']"
   ]
  },
  {
   "cell_type": "code",
   "execution_count": 6,
   "id": "4612db60-cce9-4fa0-820a-4a91b72d8e94",
   "metadata": {
    "tags": []
   },
   "outputs": [],
   "source": [
    "filename_root = '/Users/evelyn/Desktop/ConceptMap/experimental/to_label/covid/'\n",
    "# file_specific = 'hamming_code'\n",
    "## get videos comments ##\n",
    "# csv_files = glob.glob(os.path.join(path, \"*.csv\"))\n",
    "# videos_ = []\n",
    "for i in range(len(vlist)):\n",
    "    comments = []\n",
    "    videos_3 = get_comment_threads(service, \"\", vlist[i], comments)\n",
    "    # if type(videos_3) == list:\n",
    "    #     for i in videos_3:\n",
    "    #         videos_.append(i)\n",
    "    # print('')\n",
    "    output.to_csv(videos_3, filename_root+nlist[i]+\"_comment.csv\")"
   ]
  },
  {
   "cell_type": "code",
   "execution_count": 7,
   "id": "d291c050-22ec-441d-947d-d0988c388264",
   "metadata": {},
   "outputs": [],
   "source": [
    "# print(len(videos_))"
   ]
  },
  {
   "cell_type": "code",
   "execution_count": 77,
   "id": "5a822c1a-9539-444c-9440-5b84483e0746",
   "metadata": {},
   "outputs": [],
   "source": [
    "# output.to_csv(videos_, \"/Users/evelyn/Desktop/ConceptMap/experimental/raw/nlp_comment.csv\")"
   ]
  },
  {
   "cell_type": "code",
   "execution_count": 60,
   "id": "2b8f490b-0374-474a-afdb-b18acf1ecfca",
   "metadata": {},
   "outputs": [
    {
     "name": "stdout",
     "output_type": "stream",
     "text": [
      "f\n",
      "e\n",
      "d\n",
      "c\n",
      "b\n",
      "a\n",
      "[['f', 'e', 'd', 'c', 'b', 'a']]\n"
     ]
    }
   ],
   "source": [
    "lst=[\"a\",\"b\",\"c\",\"d\",\"e\",\"f\"]\n",
    "lst_rev=[]\n",
    "lst_rev.append(lst[::-1])\n",
    "for i in lst_rev:\n",
    "    for j in i:\n",
    "        print (j)\n",
    "print(lst_rev)"
   ]
  },
  {
   "cell_type": "code",
   "execution_count": null,
   "id": "653dd269-ab95-4447-b38e-d7a5eb395c89",
   "metadata": {},
   "outputs": [],
   "source": []
  }
 ],
 "metadata": {
  "kernelspec": {
   "display_name": "Python 3 (ipykernel)",
   "language": "python",
   "name": "python3"
  },
  "language_info": {
   "codemirror_mode": {
    "name": "ipython",
    "version": 3
   },
   "file_extension": ".py",
   "mimetype": "text/x-python",
   "name": "python",
   "nbconvert_exporter": "python",
   "pygments_lexer": "ipython3",
   "version": "3.10.2"
  }
 },
 "nbformat": 4,
 "nbformat_minor": 5
}
