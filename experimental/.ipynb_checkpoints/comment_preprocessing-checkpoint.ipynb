{
 "cells": [
  {
   "cell_type": "code",
   "execution_count": 1,
   "id": "a1f7987c-3c10-4149-b9fd-3c63215dd1f1",
   "metadata": {},
   "outputs": [],
   "source": [
    "import torch\n",
    "import io\n",
    "import re\n",
    "import pandas as pd\n",
    "import numpy as np\n",
    "from IPython.display import clear_output\n",
    "from sklearn.preprocessing import LabelEncoder, OneHotEncoder\n",
    "from sklearn.model_selection import train_test_split\n",
    "import random\n",
    "import matplotlib.pyplot as plt\n",
    "import nltk\n",
    "from nltk.sentiment import SentimentIntensityAnalyzer\n",
    "import spacy\n",
    "from spacy.language import Language\n",
    "from langdetect import detect\n",
    "from spacy_langdetect import LanguageDetector\n",
    "import os\n",
    "import glob"
   ]
  },
  {
   "cell_type": "code",
   "execution_count": 2,
   "id": "a0112554-6af5-4418-8b1e-5e873365eb3a",
   "metadata": {},
   "outputs": [],
   "source": [
    "import ssl\n",
    "\n",
    "try:\n",
    "    _create_unverified_https_context = ssl._create_unverified_context\n",
    "except AttributeError:\n",
    "    pass\n",
    "else:\n",
    "    ssl._create_default_https_context = _create_unverified_https_context"
   ]
  },
  {
   "cell_type": "code",
   "execution_count": 3,
   "id": "9a82ed88-c44a-47a6-a167-67aa5303c70f",
   "metadata": {},
   "outputs": [
    {
     "name": "stderr",
     "output_type": "stream",
     "text": [
      "[nltk_data] Downloading package vader_lexicon to\n",
      "[nltk_data]     /Users/evelyn/nltk_data...\n",
      "[nltk_data]   Package vader_lexicon is already up-to-date!\n",
      "[nltk_data] Downloading package words to /Users/evelyn/nltk_data...\n",
      "[nltk_data]   Package words is already up-to-date!\n"
     ]
    }
   ],
   "source": [
    "nltk.download('vader_lexicon')\n",
    "nltk.download('words')\n",
    "torch.cuda.empty_cache()"
   ]
  },
  {
   "cell_type": "code",
   "execution_count": 4,
   "id": "0a149914-13b7-4dd6-888d-f5c90e79e5bb",
   "metadata": {},
   "outputs": [],
   "source": [
    "file_head = os.getcwd()\n",
    "file_head = file_head + '/to_label/'"
   ]
  },
  {
   "cell_type": "code",
   "execution_count": 5,
   "id": "53056418-2a48-4a86-b8a3-ea0e4991adf0",
   "metadata": {},
   "outputs": [],
   "source": [
    "# detect languages, it is said that if (str(len(string)))<10, it would be not so precise\n",
    "def det(x):\n",
    "    try:\n",
    "        lang = detect(x)\n",
    "    except:\n",
    "        lang = 'Other'\n",
    "    return lang\n",
    "def preprocess(fPreprop, data_name):\n",
    "    # remove non ascii rows\n",
    "    f = fPreprop.copy()\n",
    "    f = f[f['textDisplay'].map(lambda x: str(x).isascii())]\n",
    "    f['Lang'] = f['textDisplay'].apply(det)\n",
    "    # for detected non-English sentence, go through the words to see if they are in nltk corpus\n",
    "    # if not in corpus, flag the row to be deleted\n",
    "    words = set(nltk.corpus.words.words())\n",
    "    for index, row in f[f['Lang'] != 'en'].iterrows():\n",
    "        test_str = row['textDisplay']\n",
    "        test_str = str(test_str)\n",
    "        res = re.sub(r'[^\\w\\s]', '', test_str)\n",
    "        tmp = \" \".join(w for w in nltk.wordpunct_tokenize(res) if w.lower() not in words)\n",
    "        tmp = str(tmp)\n",
    "        if(len(tmp) > 0):\n",
    "            f.loc[index, 'Lang'] = 'toDelete'\n",
    "    f.drop(f[f['Lang'] == 'toDelete'].index, inplace=True)\n",
    "    # drop 'Lang' column\n",
    "    f.drop(['Lang'], axis=1, inplace=True)\n",
    "    f.to_csv(data_name, index=False)\n",
    "    return f"
   ]
  },
  {
   "cell_type": "code",
   "execution_count": 7,
   "id": "516160ae-a2c9-40db-9698-1ea3a00b52e2",
   "metadata": {},
   "outputs": [
    {
     "name": "stdout",
     "output_type": "stream",
     "text": [
      "  File  Content length  New length\n",
      "0  nlp            2035        1777\n",
      "1                    0           0\n",
      "2                    0           0\n",
      "3                    0           0\n",
      "4                    0           0\n",
      "5                    0           0\n",
      "6                    0           0\n",
      "7                    0           0\n",
      "8                    0           0\n",
      "9                    0           0\n"
     ]
    }
   ],
   "source": [
    "# csv_files = glob.glob(os.path.join(file_head, \"*.csv\"))\n",
    "csv_files = ['./raw/nlp_comment.csv']\n",
    "i = 0\n",
    "data = {\n",
    "        'File':  [''] * 10,\n",
    "        'Content length': [0] * 10,\n",
    "        'New length': [0] * 10\n",
    "        }\n",
    "for f in csv_files:\n",
    "      \n",
    "    # read the csv file\n",
    "    df = pd.read_csv(f)\n",
    "    data[\"Content length\"][i] = len(df)\n",
    "    new_f = preprocess(df, f) \n",
    "#     # print the location and filename\n",
    "    #     # print the location and filename\n",
    "    data[\"File\"][i] = f.split(\"/\")[-1].rsplit(\"_\", 1)[0]\n",
    "    data[\"New length\"][i] = len(new_f)\n",
    "    i = i + 1\n",
    "df = pd.DataFrame(data)\n",
    "print(df)"
   ]
  },
  {
   "cell_type": "code",
   "execution_count": null,
   "id": "fc5ace41-ed43-4ca3-bb7c-98a53e5c3ff7",
   "metadata": {},
   "outputs": [],
   "source": []
  }
 ],
 "metadata": {
  "kernelspec": {
   "display_name": "Python 3 (ipykernel)",
   "language": "python",
   "name": "python3"
  },
  "language_info": {
   "codemirror_mode": {
    "name": "ipython",
    "version": 3
   },
   "file_extension": ".py",
   "mimetype": "text/x-python",
   "name": "python",
   "nbconvert_exporter": "python",
   "pygments_lexer": "ipython3",
   "version": "3.10.2"
  }
 },
 "nbformat": 4,
 "nbformat_minor": 5
}
