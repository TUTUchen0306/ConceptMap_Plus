{
 "cells": [
  {
   "cell_type": "code",
   "execution_count": 1,
   "id": "f0588a1e-75ab-4313-a8c6-ee08aed13a7c",
   "metadata": {},
   "outputs": [],
   "source": [
    "import os\n",
    "import glob"
   ]
  },
  {
   "cell_type": "code",
   "execution_count": 2,
   "id": "fb148a8a-0de6-41af-a08c-1e186092096b",
   "metadata": {},
   "outputs": [],
   "source": [
    "import ssl\n",
    "\n",
    "try:\n",
    "    _create_unverified_https_context = ssl._create_unverified_context\n",
    "except AttributeError:\n",
    "    pass\n",
    "else:\n",
    "    ssl._create_default_https_context = _create_unverified_https_context"
   ]
  },
  {
   "cell_type": "code",
   "execution_count": 3,
   "id": "a717045b-afb9-408f-9f56-c3687f9d0c6c",
   "metadata": {},
   "outputs": [
    {
     "name": "stdout",
     "output_type": "stream",
     "text": [
      "Are yop insane all of you\n",
      "Please make it for just VR systems. Fuck Oculus exclusives\n",
      "vr_martial_arts_ieee_comment.csv is 22 -- pos: 20, neg: 2\n",
      "-----------------------------------------------------------------\n",
      "\n",
      "Rizzo did have a disease, and it wasn't funny.\n",
      "@SpaghettiToaster Fuck r/woosh\n",
      "Cartoon style doesn't mix well with realism.\n",
      "coco_skeleton_siggraph_comment.csv is 15 -- pos: 12, neg: 3\n",
      "-----------------------------------------------------------------\n",
      "\n",
      "the fact he said (sit back and relax) but missed the (enjoy the show) really disappointed me :(\n",
      "nlp_with_spacy_comment.csv is 66 -- pos: 65, neg: 1\n",
      "-----------------------------------------------------------------\n",
      "\n",
      "NLTK is 103\n"
     ]
    }
   ],
   "source": [
    "import pandas as pd\n",
    "import nltk\n",
    "from nltk.sentiment import SentimentIntensityAnalyzer\n",
    "\n",
    "tot = 0\n",
    "sia = SentimentIntensityAnalyzer()\n",
    "csv_list = ['vr_martial_arts_ieee_comment.csv', 'coco_skeleton_siggraph_comment.csv',\n",
    "            'nlp_with_spacy_comment.csv']\n",
    "for i in range(len(csv_list)):\n",
    "    f = pd.read_csv('./to_label/' + csv_list[i])\n",
    "    ans = pd.read_csv('./answer/' + csv_list[i])\n",
    "    pos = 0\n",
    "    neg = 0\n",
    "    for j in range(len(f)):\n",
    "        outcome = sia.polarity_scores(f['textDisplay'][j])\n",
    "        if outcome['compound'] > 0 and ans['sentiment-positive-video'][j] == 1:\n",
    "            pos = pos + 1\n",
    "        if outcome['compound'] < 0 and ans['sentiment-negative-video'][j] == 1:\n",
    "            neg = neg + 1\n",
    "            print(f['textDisplay'][j])\n",
    "        # outcome = sia.polarity_scores(f['textDisplay'][j])\n",
    "        # print(outcome)\n",
    "    total = pos + neg\n",
    "    tot = tot + total\n",
    "    print(f'{csv_list[i]} is {total} -- pos: {pos}, neg: {neg}')\n",
    "    print('-----------------------------------------------------------------\\n')\n",
    "print(f'NLTK is {tot}')"
   ]
  },
  {
   "cell_type": "code",
   "execution_count": 4,
   "id": "c62f306d-ce6a-4917-ad8d-8073d97719ae",
   "metadata": {},
   "outputs": [],
   "source": [
    "from textblob import TextBlob"
   ]
  },
  {
   "cell_type": "code",
   "execution_count": 5,
   "id": "60314c69-9b18-4f48-bbf3-31922fd83de7",
   "metadata": {},
   "outputs": [
    {
     "name": "stdout",
     "output_type": "stream",
     "text": [
      "vr_martial_arts_ieee_comment.csv is 24 -- pos: 21, neg: 3\n",
      "-----------------------------------------------------------------\n",
      "\n",
      "coco_skeleton_siggraph_comment.csv is 11 -- pos: 9, neg: 2\n",
      "-----------------------------------------------------------------\n",
      "\n",
      "nlp_with_spacy_comment.csv is 60 -- pos: 59, neg: 1\n",
      "-----------------------------------------------------------------\n",
      "\n",
      "TextBlob is 95\n"
     ]
    }
   ],
   "source": [
    "tot = 0\n",
    "for i in range(len(csv_list)):\n",
    "    f = pd.read_csv('./to_label/' + csv_list[i])\n",
    "    ans = pd.read_csv('./answer/' + csv_list[i])\n",
    "    pos = 0\n",
    "    neg = 0\n",
    "    for j in range(len(f)):\n",
    "        outcome = TextBlob(f['textDisplay'][j])\n",
    "        # print(outcome.sentiment.polarity)\n",
    "        if outcome.sentiment.polarity > 0 and ans['sentiment-positive-video'][j] == 1:\n",
    "            pos = pos + 1\n",
    "        if outcome.sentiment.polarity < 0 and ans['sentiment-negative-video'][j] == 1:\n",
    "            neg = neg + 1\n",
    "            # print(f['textDisplay'][j])\n",
    "        # outcome = sia.polarity_scores(f['textDisplay'][j])\n",
    "        # print(outcome)\n",
    "    total = pos + neg\n",
    "    tot = tot + total\n",
    "    print(f'{csv_list[i]} is {total} -- pos: {pos}, neg: {neg}')\n",
    "    print('-----------------------------------------------------------------\\n')\n",
    "print(f'TextBlob is {tot}')"
   ]
  },
  {
   "cell_type": "code",
   "execution_count": 6,
   "id": "592dbc41-340b-467b-a48f-4152117468b2",
   "metadata": {},
   "outputs": [],
   "source": [
    "from vaderSentiment.vaderSentiment import SentimentIntensityAnalyzer as si"
   ]
  },
  {
   "cell_type": "code",
   "execution_count": 7,
   "id": "b9218e2d-72ea-44ef-a358-7b5b2183f364",
   "metadata": {},
   "outputs": [
    {
     "name": "stdout",
     "output_type": "stream",
     "text": [
      "vr_martial_arts_ieee_comment.csv is 22 -- pos: 20, neg: 2\n",
      "-----------------------------------------------------------------\n",
      "\n",
      "coco_skeleton_siggraph_comment.csv is 15 -- pos: 12, neg: 3\n",
      "-----------------------------------------------------------------\n",
      "\n",
      "nlp_with_spacy_comment.csv is 68 -- pos: 67, neg: 1\n",
      "-----------------------------------------------------------------\n",
      "\n",
      "vader is 105\n"
     ]
    }
   ],
   "source": [
    "tot = 0\n",
    "for i in range(len(csv_list)):\n",
    "    f = pd.read_csv('./to_label/' + csv_list[i])\n",
    "    ans = pd.read_csv('./answer/' + csv_list[i])\n",
    "    pos = 0\n",
    "    neg = 0\n",
    "    for j in range(len(f)):\n",
    "        sid_obj = si()\n",
    "        outcome = sid_obj.polarity_scores(f['textDisplay'][j])\n",
    "        # print(outcome)\n",
    "        if outcome['compound'] > 0 and ans['sentiment-positive-video'][j] == 1:\n",
    "            pos = pos + 1\n",
    "        if outcome['compound'] < 0 and ans['sentiment-negative-video'][j] == 1:\n",
    "            neg = neg + 1\n",
    "            # print(f['textDisplay'][j])\n",
    "        # outcome = sia.polarity_scores(f['textDisplay'][j])\n",
    "        # print(outcome)\n",
    "    total = pos + neg\n",
    "    tot = tot + total\n",
    "    print(f'{csv_list[i]} is {total} -- pos: {pos}, neg: {neg}')\n",
    "    print('-----------------------------------------------------------------\\n')\n",
    "print(f'vader is {tot}')"
   ]
  },
  {
   "cell_type": "markdown",
   "id": "9d365c01-061e-4448-b246-101a8287d928",
   "metadata": {},
   "source": [
    "# Use textblob on nlp"
   ]
  },
  {
   "cell_type": "code",
   "execution_count": 8,
   "id": "11508de4-4978-40cc-8e3f-20bce73b4d70",
   "metadata": {},
   "outputs": [],
   "source": [
    "bit_f = './raw/nlp_comment.csv'"
   ]
  },
  {
   "cell_type": "code",
   "execution_count": 26,
   "id": "ade810f9-ccc8-4114-ba9d-be0dd06b15a1",
   "metadata": {},
   "outputs": [],
   "source": [
    "tot = 0\n",
    "f = pd.read_csv(bit_f)\n",
    "senti = []\n",
    "pos = 0\n",
    "neg = 0\n",
    "for j in range(len(f)):\n",
    "    sid_obj = si()\n",
    "    outcome = sid_obj.polarity_scores(f['textDisplay'][j])\n",
    "    # print(outcome)\n",
    "    if outcome['compound'] > 0.5:\n",
    "        senti.append('Positive')\n",
    "        pos = pos + 1\n",
    "    elif outcome['compound'] < -0.5:\n",
    "        # print(f['textDisplay'][j],'\\n')\n",
    "        senti.append('Negative')\n",
    "        neg = neg + 1\n",
    "    else:\n",
    "        # print(f['textDisplay'][j],'\\n')\n",
    "        senti.append('Neutral')\n",
    "f['sentiment'] = senti\n",
    "f.to_csv('./data/sentiment/natural_language_processing_50_comment.csv', index=False)"
   ]
  },
  {
   "cell_type": "code",
   "execution_count": 27,
   "id": "45d82caf-d7a1-447c-9c64-fd2f025868de",
   "metadata": {},
   "outputs": [
    {
     "name": "stdout",
     "output_type": "stream",
     "text": [
      "708   58\n"
     ]
    }
   ],
   "source": [
    "print(pos,\" \", neg)"
   ]
  },
  {
   "cell_type": "code",
   "execution_count": 28,
   "id": "7d792be6-907d-46bf-b3a3-76d9771ebe1a",
   "metadata": {
    "collapsed": true,
    "jupyter": {
     "outputs_hidden": true
    },
    "tags": []
   },
   "outputs": [
    {
     "data": {
      "text/html": [
       "<div>\n",
       "<style scoped>\n",
       "    .dataframe tbody tr th:only-of-type {\n",
       "        vertical-align: middle;\n",
       "    }\n",
       "\n",
       "    .dataframe tbody tr th {\n",
       "        vertical-align: top;\n",
       "    }\n",
       "\n",
       "    .dataframe thead th {\n",
       "        text-align: right;\n",
       "    }\n",
       "</style>\n",
       "<table border=\"1\" class=\"dataframe\">\n",
       "  <thead>\n",
       "    <tr style=\"text-align: right;\">\n",
       "      <th></th>\n",
       "      <th>commentId</th>\n",
       "      <th>parentId</th>\n",
       "      <th>videoId</th>\n",
       "      <th>textDisplay</th>\n",
       "      <th>publishedAt</th>\n",
       "      <th>authorDisplayName</th>\n",
       "      <th>authorProfileImageUrl</th>\n",
       "      <th>sentiment</th>\n",
       "    </tr>\n",
       "  </thead>\n",
       "  <tbody>\n",
       "    <tr>\n",
       "      <th>0</th>\n",
       "      <td>UgyeDCvTbwpvWn6XnUd4AaABAg</td>\n",
       "      <td>0</td>\n",
       "      <td>fOvTtapxa9c</td>\n",
       "      <td>She WOZ happy</td>\n",
       "      <td>2020-06-19T04:05:36Z</td>\n",
       "      <td>طيف فيرنانديز</td>\n",
       "      <td>https://yt3.ggpht.com/ytc/AKedOLQyzRsrm_mtgN6k...</td>\n",
       "      <td>Positive</td>\n",
       "    </tr>\n",
       "    <tr>\n",
       "      <th>1</th>\n",
       "      <td>UgwfuDvwUYn_5u7omZx4AaABAg</td>\n",
       "      <td>0</td>\n",
       "      <td>fOvTtapxa9c</td>\n",
       "      <td>I am a linguist but I know nothing about compu...</td>\n",
       "      <td>2020-05-25T11:51:32Z</td>\n",
       "      <td>johnmongver</td>\n",
       "      <td>https://yt3.ggpht.com/ytc/AKedOLSxz_zqd3BXbD79...</td>\n",
       "      <td>Positive</td>\n",
       "    </tr>\n",
       "    <tr>\n",
       "      <th>2</th>\n",
       "      <td>UgxLqL0DcgvAeu_uGVt4AaABAg</td>\n",
       "      <td>0</td>\n",
       "      <td>fOvTtapxa9c</td>\n",
       "      <td>Dear Siri,  you are not alone. I am not sure I...</td>\n",
       "      <td>2020-05-06T11:10:42Z</td>\n",
       "      <td>Ayoub Essabiri</td>\n",
       "      <td>https://yt3.ggpht.com/ytc/AKedOLTGhYTUy26stoGV...</td>\n",
       "      <td>Positive</td>\n",
       "    </tr>\n",
       "    <tr>\n",
       "      <th>3</th>\n",
       "      <td>UgxEkDUMxettABrvSed4AaABAg</td>\n",
       "      <td>0</td>\n",
       "      <td>fOvTtapxa9c</td>\n",
       "      <td>Your classes are amazing...</td>\n",
       "      <td>2020-04-25T05:15:42Z</td>\n",
       "      <td>Thatoyaone Bogopa</td>\n",
       "      <td>https://yt3.ggpht.com/ytc/AKedOLRDSD3fhZaYYNy-...</td>\n",
       "      <td>Positive</td>\n",
       "    </tr>\n",
       "    <tr>\n",
       "      <th>4</th>\n",
       "      <td>UgyKcGszisSZIgOifah4AaABAg</td>\n",
       "      <td>0</td>\n",
       "      <td>fOvTtapxa9c</td>\n",
       "      <td>Why are you talking so fast to the point it's ...</td>\n",
       "      <td>2020-04-21T08:01:36Z</td>\n",
       "      <td>Yash Gala</td>\n",
       "      <td>https://yt3.ggpht.com/ytc/AKedOLQoLbXNteAfQr7_...</td>\n",
       "      <td>Neutral</td>\n",
       "    </tr>\n",
       "    <tr>\n",
       "      <th>...</th>\n",
       "      <td>...</td>\n",
       "      <td>...</td>\n",
       "      <td>...</td>\n",
       "      <td>...</td>\n",
       "      <td>...</td>\n",
       "      <td>...</td>\n",
       "      <td>...</td>\n",
       "      <td>...</td>\n",
       "    </tr>\n",
       "    <tr>\n",
       "      <th>1767</th>\n",
       "      <td>UgyeSDlr8gtFG_D7pE94AaABAg</td>\n",
       "      <td>0</td>\n",
       "      <td>iGmHnICXDss</td>\n",
       "      <td>I guess you're a French fella from Quebec. Any...</td>\n",
       "      <td>2020-02-10T03:08:13Z</td>\n",
       "      <td>VINAY REDDY</td>\n",
       "      <td>https://yt3.ggpht.com/ytc/AKedOLSk3TQQkEnDvqwj...</td>\n",
       "      <td>Neutral</td>\n",
       "    </tr>\n",
       "    <tr>\n",
       "      <th>1768</th>\n",
       "      <td>Ugz6RPNxT5W0TWc5U9V4AaABAg</td>\n",
       "      <td>0</td>\n",
       "      <td>iGmHnICXDss</td>\n",
       "      <td>I am a little bit confused. From Wikipedia, 1s...</td>\n",
       "      <td>2017-11-07T19:44:37Z</td>\n",
       "      <td>Yu Mao</td>\n",
       "      <td>https://yt3.ggpht.com/ytc/AKedOLQa1I7aOjnJyx6U...</td>\n",
       "      <td>Neutral</td>\n",
       "    </tr>\n",
       "    <tr>\n",
       "      <th>1769</th>\n",
       "      <td>Ugz6RPNxT5W0TWc5U9V4AaABAg.8ZfhX0ebdnE8ZprikjpMDT</td>\n",
       "      <td>Ugz6RPNxT5W0TWc5U9V4AaABAg</td>\n",
       "      <td>iGmHnICXDss</td>\n",
       "      <td>Hmm, good question... well this page mentions ...</td>\n",
       "      <td>2017-11-11T18:26:08Z</td>\n",
       "      <td>Hugo Larochelle</td>\n",
       "      <td>https://yt3.ggpht.com/ytc/AKedOLTXFqpq_1r5G2go...</td>\n",
       "      <td>Positive</td>\n",
       "    </tr>\n",
       "    <tr>\n",
       "      <th>1770</th>\n",
       "      <td>Ugz6RPNxT5W0TWc5U9V4AaABAg.8ZfhX0ebdnE8jDZ3FnXldK</td>\n",
       "      <td>Ugz6RPNxT5W0TWc5U9V4AaABAg</td>\n",
       "      <td>iGmHnICXDss</td>\n",
       "      <td>Looks like the nth order Markov property does ...</td>\n",
       "      <td>2018-07-27T21:49:15Z</td>\n",
       "      <td>JaysonSunshine</td>\n",
       "      <td>https://yt3.ggpht.com/ytc/AKedOLQ_OM9G2a70ajFj...</td>\n",
       "      <td>Neutral</td>\n",
       "    </tr>\n",
       "    <tr>\n",
       "      <th>1771</th>\n",
       "      <td>UggTABh1VQFKVngCoAEC.8JMoS63xWOL8JTBnMsua7Z</td>\n",
       "      <td>UggTABh1VQFKVngCoAEC</td>\n",
       "      <td>iGmHnICXDss</td>\n",
       "      <td>t and n are different things here. \\n\\nt index...</td>\n",
       "      <td>2016-09-30T21:26:11Z</td>\n",
       "      <td>Hugo Larochelle</td>\n",
       "      <td>https://yt3.ggpht.com/ytc/AKedOLTXFqpq_1r5G2go...</td>\n",
       "      <td>Positive</td>\n",
       "    </tr>\n",
       "  </tbody>\n",
       "</table>\n",
       "<p>1772 rows × 8 columns</p>\n",
       "</div>"
      ],
      "text/plain": [
       "                                              commentId  \\\n",
       "0                            UgyeDCvTbwpvWn6XnUd4AaABAg   \n",
       "1                            UgwfuDvwUYn_5u7omZx4AaABAg   \n",
       "2                            UgxLqL0DcgvAeu_uGVt4AaABAg   \n",
       "3                            UgxEkDUMxettABrvSed4AaABAg   \n",
       "4                            UgyKcGszisSZIgOifah4AaABAg   \n",
       "...                                                 ...   \n",
       "1767                         UgyeSDlr8gtFG_D7pE94AaABAg   \n",
       "1768                         Ugz6RPNxT5W0TWc5U9V4AaABAg   \n",
       "1769  Ugz6RPNxT5W0TWc5U9V4AaABAg.8ZfhX0ebdnE8ZprikjpMDT   \n",
       "1770  Ugz6RPNxT5W0TWc5U9V4AaABAg.8ZfhX0ebdnE8jDZ3FnXldK   \n",
       "1771        UggTABh1VQFKVngCoAEC.8JMoS63xWOL8JTBnMsua7Z   \n",
       "\n",
       "                        parentId      videoId  \\\n",
       "0                              0  fOvTtapxa9c   \n",
       "1                              0  fOvTtapxa9c   \n",
       "2                              0  fOvTtapxa9c   \n",
       "3                              0  fOvTtapxa9c   \n",
       "4                              0  fOvTtapxa9c   \n",
       "...                          ...          ...   \n",
       "1767                           0  iGmHnICXDss   \n",
       "1768                           0  iGmHnICXDss   \n",
       "1769  Ugz6RPNxT5W0TWc5U9V4AaABAg  iGmHnICXDss   \n",
       "1770  Ugz6RPNxT5W0TWc5U9V4AaABAg  iGmHnICXDss   \n",
       "1771        UggTABh1VQFKVngCoAEC  iGmHnICXDss   \n",
       "\n",
       "                                            textDisplay           publishedAt  \\\n",
       "0                                         She WOZ happy  2020-06-19T04:05:36Z   \n",
       "1     I am a linguist but I know nothing about compu...  2020-05-25T11:51:32Z   \n",
       "2     Dear Siri,  you are not alone. I am not sure I...  2020-05-06T11:10:42Z   \n",
       "3                           Your classes are amazing...  2020-04-25T05:15:42Z   \n",
       "4     Why are you talking so fast to the point it's ...  2020-04-21T08:01:36Z   \n",
       "...                                                 ...                   ...   \n",
       "1767  I guess you're a French fella from Quebec. Any...  2020-02-10T03:08:13Z   \n",
       "1768  I am a little bit confused. From Wikipedia, 1s...  2017-11-07T19:44:37Z   \n",
       "1769  Hmm, good question... well this page mentions ...  2017-11-11T18:26:08Z   \n",
       "1770  Looks like the nth order Markov property does ...  2018-07-27T21:49:15Z   \n",
       "1771  t and n are different things here. \\n\\nt index...  2016-09-30T21:26:11Z   \n",
       "\n",
       "      authorDisplayName                              authorProfileImageUrl  \\\n",
       "0         طيف فيرنانديز  https://yt3.ggpht.com/ytc/AKedOLQyzRsrm_mtgN6k...   \n",
       "1           johnmongver  https://yt3.ggpht.com/ytc/AKedOLSxz_zqd3BXbD79...   \n",
       "2        Ayoub Essabiri  https://yt3.ggpht.com/ytc/AKedOLTGhYTUy26stoGV...   \n",
       "3     Thatoyaone Bogopa  https://yt3.ggpht.com/ytc/AKedOLRDSD3fhZaYYNy-...   \n",
       "4             Yash Gala  https://yt3.ggpht.com/ytc/AKedOLQoLbXNteAfQr7_...   \n",
       "...                 ...                                                ...   \n",
       "1767        VINAY REDDY  https://yt3.ggpht.com/ytc/AKedOLSk3TQQkEnDvqwj...   \n",
       "1768             Yu Mao  https://yt3.ggpht.com/ytc/AKedOLQa1I7aOjnJyx6U...   \n",
       "1769    Hugo Larochelle  https://yt3.ggpht.com/ytc/AKedOLTXFqpq_1r5G2go...   \n",
       "1770     JaysonSunshine  https://yt3.ggpht.com/ytc/AKedOLQ_OM9G2a70ajFj...   \n",
       "1771    Hugo Larochelle  https://yt3.ggpht.com/ytc/AKedOLTXFqpq_1r5G2go...   \n",
       "\n",
       "     sentiment  \n",
       "0     Positive  \n",
       "1     Positive  \n",
       "2     Positive  \n",
       "3     Positive  \n",
       "4      Neutral  \n",
       "...        ...  \n",
       "1767   Neutral  \n",
       "1768   Neutral  \n",
       "1769  Positive  \n",
       "1770   Neutral  \n",
       "1771  Positive  \n",
       "\n",
       "[1772 rows x 8 columns]"
      ]
     },
     "execution_count": 28,
     "metadata": {},
     "output_type": "execute_result"
    }
   ],
   "source": [
    "f"
   ]
  },
  {
   "cell_type": "code",
   "execution_count": 47,
   "id": "95f19e7c-2b13-42bd-a3bf-e0a7881ac57c",
   "metadata": {},
   "outputs": [],
   "source": [
    "ttmp_f = './natural_language_processing_50_comment.csv'\n",
    "tmp_f = pd.read_csv(ttmp_f)"
   ]
  },
  {
   "cell_type": "code",
   "execution_count": 52,
   "id": "727e3b1b-5763-4fbe-90ad-3d577cd0f230",
   "metadata": {},
   "outputs": [
    {
     "name": "stdout",
     "output_type": "stream",
     "text": [
      "1772   1772\n"
     ]
    }
   ],
   "source": [
    "print(len(tmp_f), \" \", len(f))\n",
    "for index, row in tmp_f.iterrows():\n",
    "    # print(row['sentiment'], f['sentiment'][index])\n",
    "    if row['sentiment'] != 'Q&A' and row['sentiment'] != f['sentiment'][index]:\n",
    "        print(row['sentiment'], f['sentiment'][index])\n",
    "        # tmp_f.loc[index]['sentiment'] = f['sentiment'][index]\n",
    "    # tmp = df[df['name'] == row['sentiment']]['count']\n",
    "    # exist_emo = row['sentiment']\n",
    "    # df.loc[df['name'] == row['sentiment'], 'count'] = tmp + 1\n",
    "    # for index_df, row_df in df.iterrows():\n",
    "    #     if row_df['name'] == exist_emo:\n",
    "    #         row_df['comment_id'][index] = 1\n",
    "    #     else:\n",
    "    #         row_df['comment_id'][index] = 0\n",
    "        # print(row_df['comment_id'])\n",
    "# print(df)"
   ]
  },
  {
   "cell_type": "code",
   "execution_count": 54,
   "id": "b757c469-1dfc-4c1e-ae2c-91d2364e9de9",
   "metadata": {},
   "outputs": [
    {
     "name": "stdout",
     "output_type": "stream",
     "text": [
      "Neutral     916\n",
      "Positive    672\n",
      "Q&A         130\n",
      "Negative     54\n",
      "Name: sentiment, dtype: int64\n"
     ]
    }
   ],
   "source": [
    "print(tmp_f['sentiment'].value_counts())"
   ]
  },
  {
   "cell_type": "code",
   "execution_count": 55,
   "id": "d870af9e-1c77-4b0b-9209-25ecbce504e9",
   "metadata": {},
   "outputs": [],
   "source": [
    "tmp_f.to_csv('./data/sentiment/natural_language_processing_50_comment.csv', index=False)"
   ]
  },
  {
   "cell_type": "code",
   "execution_count": null,
   "id": "f6af07d7-66d5-4335-905a-d0bffa163200",
   "metadata": {},
   "outputs": [],
   "source": []
  }
 ],
 "metadata": {
  "kernelspec": {
   "display_name": "Python 3 (ipykernel)",
   "language": "python",
   "name": "python3"
  },
  "language_info": {
   "codemirror_mode": {
    "name": "ipython",
    "version": 3
   },
   "file_extension": ".py",
   "mimetype": "text/x-python",
   "name": "python",
   "nbconvert_exporter": "python",
   "pygments_lexer": "ipython3",
   "version": "3.10.2"
  }
 },
 "nbformat": 4,
 "nbformat_minor": 5
}
