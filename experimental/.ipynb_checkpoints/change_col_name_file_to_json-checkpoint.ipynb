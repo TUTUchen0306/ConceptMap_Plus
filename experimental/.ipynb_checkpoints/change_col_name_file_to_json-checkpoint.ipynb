{
 "cells": [
  {
   "cell_type": "code",
   "execution_count": 1,
   "id": "8297668b-17b9-49ca-83d1-9b0cd83758d1",
   "metadata": {},
   "outputs": [],
   "source": [
    "import pandas as pd\n",
    "import csv\n",
    "import json"
   ]
  },
  {
   "cell_type": "code",
   "execution_count": 2,
   "id": "07b4f229-a3f1-4e96-b6eb-645335cc47f8",
   "metadata": {},
   "outputs": [],
   "source": [
    "file_NLP = pd.read_csv('./raw/nlp_comment.csv')"
   ]
  },
  {
   "cell_type": "code",
   "execution_count": 3,
   "id": "49dad244-bfb1-4d12-bbcb-4f32347b564a",
   "metadata": {},
   "outputs": [
    {
     "data": {
      "text/plain": [
       "Index(['commentId', 'parentId', 'videoId', 'textDisplay', 'publishedAt',\n",
       "       'authorDisplayName', 'authorProfileImageUrl'],\n",
       "      dtype='object')"
      ]
     },
     "execution_count": 3,
     "metadata": {},
     "output_type": "execute_result"
    }
   ],
   "source": [
    "file_NLP.columns"
   ]
  },
  {
   "cell_type": "code",
   "execution_count": 4,
   "id": "e430f4d3-49fe-43bf-b14c-03e151c58ae2",
   "metadata": {},
   "outputs": [
    {
     "data": {
      "text/plain": [
       "Index(['commentId', 'parentId', 'videoId', 'content', 'publishedAt', 'userId',\n",
       "       'authorProfileImageUrl'],\n",
       "      dtype='object')"
      ]
     },
     "execution_count": 4,
     "metadata": {},
     "output_type": "execute_result"
    }
   ],
   "source": [
    "file_NLP.rename(columns={'textDisplay': 'content', 'authorDisplayName': 'userId'}, inplace=True)\n",
    "file_NLP.columns"
   ]
  },
  {
   "cell_type": "code",
   "execution_count": 5,
   "id": "412665cd-c816-4a29-9977-d470374be471",
   "metadata": {},
   "outputs": [],
   "source": [
    "file_NLP.to_json('./data/sentiment/natural_language_processing_50_comment.json', orient = 'index')"
   ]
  },
  {
   "cell_type": "code",
   "execution_count": 6,
   "id": "e278f181-f2d1-4a5d-a7fb-13e56546d3aa",
   "metadata": {},
   "outputs": [
    {
     "data": {
      "text/plain": [
       "1777"
      ]
     },
     "execution_count": 6,
     "metadata": {},
     "output_type": "execute_result"
    }
   ],
   "source": [
    "len(file_NLP)"
   ]
  },
  {
   "cell_type": "code",
   "execution_count": null,
   "id": "6b71804a-2887-41c7-bd31-83181407dc0d",
   "metadata": {},
   "outputs": [],
   "source": []
  }
 ],
 "metadata": {
  "kernelspec": {
   "display_name": "Python 3 (ipykernel)",
   "language": "python",
   "name": "python3"
  },
  "language_info": {
   "codemirror_mode": {
    "name": "ipython",
    "version": 3
   },
   "file_extension": ".py",
   "mimetype": "text/x-python",
   "name": "python",
   "nbconvert_exporter": "python",
   "pygments_lexer": "ipython3",
   "version": "3.10.2"
  }
 },
 "nbformat": 4,
 "nbformat_minor": 5
}
