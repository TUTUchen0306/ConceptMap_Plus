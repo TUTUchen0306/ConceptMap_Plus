{
 "cells": [
  {
   "cell_type": "code",
   "execution_count": 1,
   "id": "f756af0d-2749-47f6-a979-f7f1019d4ee7",
   "metadata": {},
   "outputs": [],
   "source": [
    "import pandas as pd\n",
    "import os\n",
    "import glob"
   ]
  },
  {
   "cell_type": "code",
   "execution_count": 2,
   "id": "61e2b14b-b398-45f6-9f85-22b0cff39e0d",
   "metadata": {},
   "outputs": [
    {
     "name": "stdout",
     "output_type": "stream",
     "text": [
      "                     File  Content length\n",
      "0  coco_skeleton_siggraph              32\n",
      "1                  dp_mit             977\n",
      "2          blockchain_mit            1710\n",
      "3          nlp_with_spacy             189\n",
      "4            hamming_code            1477\n",
      "5       ml_recipes_google            1190\n",
      "6        ml_7steps_google             502\n",
      "7                  sha256             433\n",
      "8    vr_martial_arts_ieee              72\n",
      "9                assembly             251\n"
     ]
    }
   ],
   "source": [
    "path = os.getcwd()\n",
    "path = path + '/to_label/'\n",
    "csv_files = glob.glob(os.path.join(path, \"*.csv\"))\n",
    "\n",
    "data = {\n",
    "        'File':  [''] * 10,\n",
    "        'Content length': [0] * 10\n",
    "        }\n",
    "# loop over the list of csv files\n",
    "i = 0\n",
    "for f in csv_files:\n",
    "      \n",
    "    # read the csv file\n",
    "    df = pd.read_csv(f)\n",
    "      \n",
    "#     # print the location and filename\n",
    "    data[\"File\"][i] = f.split(\"/\")[-1].rsplit(\"_\", 1)[0]\n",
    "    data[\"Content length\"][i] = len(df)\n",
    "    i = i + 1\n",
    "df = pd.DataFrame(data)\n",
    "print(df)"
   ]
  },
  {
   "cell_type": "code",
   "execution_count": 4,
   "id": "2e3d4c01-ed70-412f-95ca-590e66e4aea5",
   "metadata": {},
   "outputs": [
    {
     "name": "stdout",
     "output_type": "stream",
     "text": [
      "                     File  Content length\n",
      "0  coco_skeleton_siggraph              30\n",
      "1                  dp_mit             818\n",
      "2          blockchain_mit            1327\n",
      "3          nlp_with_spacy             146\n",
      "4            hamming_code            1218\n",
      "5       ml_recipes_google            1068\n",
      "6        ml_7steps_google             414\n",
      "7                  sha256             374\n",
      "8    vr_martial_arts_ieee              64\n",
      "9                assembly             197\n"
     ]
    }
   ],
   "source": [
    "data = {\n",
    "        'File':  [''] * 10,\n",
    "        'Content length': [0] * 10\n",
    "        }\n",
    "# loop over the list of csv files\n",
    "i = 0\n",
    "for f in csv_files:\n",
    "      \n",
    "    # read the csv file\n",
    "    df = pd.read_csv(f)\n",
    "      \n",
    "#     # print the location and filename\n",
    "    data[\"File\"][i] = f.split(\"/\")[-1].rsplit(\"_\", 1)[0]\n",
    "    data[\"Content length\"][i] = len(df)\n",
    "    i = i + 1\n",
    "df = pd.DataFrame(data)\n",
    "print(df)"
   ]
  },
  {
   "cell_type": "code",
   "execution_count": null,
   "id": "4132d39e-6575-457e-9d46-88b82b0335dd",
   "metadata": {},
   "outputs": [],
   "source": []
  },
  {
   "cell_type": "code",
   "execution_count": null,
   "id": "aacef34a-1a76-42d7-aeb8-687ca0afa81e",
   "metadata": {},
   "outputs": [],
   "source": []
  }
 ],
 "metadata": {
  "kernelspec": {
   "display_name": "Python 3 (ipykernel)",
   "language": "python",
   "name": "python3"
  },
  "language_info": {
   "codemirror_mode": {
    "name": "ipython",
    "version": 3
   },
   "file_extension": ".py",
   "mimetype": "text/x-python",
   "name": "python",
   "nbconvert_exporter": "python",
   "pygments_lexer": "ipython3",
   "version": "3.10.2"
  }
 },
 "nbformat": 4,
 "nbformat_minor": 5
}
